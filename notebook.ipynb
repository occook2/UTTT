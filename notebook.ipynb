{
 "cells": [
  {
   "cell_type": "code",
   "execution_count": null,
   "id": "3400835e",
   "metadata": {},
   "outputs": [],
   "source": [
    "# Imports\n",
    "from ttt.env.state import TTTEnv\n",
    "from ttt.agents.random import RandomAgent\n",
    "from ttt.mcts.base import GenericMCTS, MCTSConfig\n",
    "from ttt.eval.alphazero_factory import alphazero_agent_factory\n",
    "from ttt.mcts.alphazero_strategy import infer\n",
    "import torch"
   ]
  },
  {
   "cell_type": "code",
   "execution_count": 210,
   "id": "a4671396",
   "metadata": {},
   "outputs": [
    {
     "name": "stdout",
     "output_type": "stream",
     "text": [
      "[[ 1 -1  0]\n",
      " [ 0  1  1]\n",
      " [ 0 -1  0]]\n"
     ]
    }
   ],
   "source": [
    "# Setup Blunder Board\n",
    "env = TTTEnv(seed=15)\n",
    "env.step(0)\n",
    "env.step(1)\n",
    "env.step(5)\n",
    "env.step(7)\n",
    "env.step(4)\n",
    "print(env.board)\n"
   ]
  },
  {
   "cell_type": "code",
   "execution_count": 203,
   "id": "bf414896",
   "metadata": {},
   "outputs": [
    {
     "name": "stderr",
     "output_type": "stream",
     "text": [
      "c:\\Users\\occoo\\UTTT\\ttt\\eval\\alphazero_factory.py:34: FutureWarning: You are using `torch.load` with `weights_only=False` (the current default value), which uses the default pickle module implicitly. It is possible to construct malicious pickle data which will execute arbitrary code during unpickling (See https://github.com/pytorch/pytorch/blob/main/SECURITY.md#untrusted-models for more details). In a future release, the default value for `weights_only` will be flipped to `True`. This limits the functions that could be executed during unpickling. Arbitrary objects will no longer be allowed to be loaded via this mode unless they are explicitly allowlisted by the user via `torch.serialization.add_safe_globals`. We recommend you start setting `weights_only=True` for any use case where you don't have full control of the loaded file. Please open an issue on GitHub for any issues related to this experimental feature.\n",
      "  checkpoint = torch.load(checkpoint_path, map_location=device)\n"
     ]
    }
   ],
   "source": [
    "# Load agents\n",
    "random = RandomAgent()\n",
    "az_factory = alphazero_agent_factory(checkpoint_path=\"ttt/runs/run_20251025_221904/checkpoints/alphazero_epoch_25.pt\", \n",
    "                             mcts_simulations=100,\n",
    "                             temperature=0.0)\n",
    "az = az_factory(**{})"
   ]
  },
  {
   "cell_type": "code",
   "execution_count": 221,
   "id": "3e6d05cb",
   "metadata": {},
   "outputs": [
    {
     "name": "stdout",
     "output_type": "stream",
     "text": [
      "8\n",
      "[0.         0.         0.07331613 0.22869677 0.         0.\n",
      " 0.04760562 0.         0.65038147]\n",
      "[0.         0.         0.01037973 0.18458545 0.         0.\n",
      " 0.01548662 0.         0.7895482 ]\n",
      "<class 'numpy.ndarray'>\n"
     ]
    }
   ],
   "source": [
    "az.set_temperature(0.7)\n",
    "mcts = GenericMCTS(az.strategy, az.mcts_config)\n",
    "best_action, actions, action_probs = mcts.search(env)\n",
    "print(best_action)\n",
    "print(actions)\n",
    "print(action_probs)\n",
    "print(type(action_probs))"
   ]
  },
  {
   "cell_type": "code",
   "execution_count": 213,
   "id": "6bdf2cce",
   "metadata": {},
   "outputs": [],
   "source": [
    "obs = env._encode()  # Shape: (5, 3, 3)\n",
    "legal_mask = env.legal_actions_mask()  # Shape: (3, 3)\n",
    "\n",
    "strategy = az.strategy\n",
    "\n",
    "# Convert to tensors and add batch dimension\n",
    "obs_tensor = torch.from_numpy(obs).unsqueeze(0).float().to(strategy.device)\n",
    "legal_mask_tensor = torch.from_numpy(legal_mask.flatten()).unsqueeze(0).bool().to(strategy.device)\n",
    "\n",
    "net = az.strategy.network\n",
    "policy, value = net.predict_priors_value(obs_tensor, legal_mask_tensor)"
   ]
  },
  {
   "cell_type": "code",
   "execution_count": 215,
   "id": "6a6f35ab",
   "metadata": {},
   "outputs": [
    {
     "name": "stdout",
     "output_type": "stream",
     "text": [
      "tensor([[0.0000, 0.0000, 0.0104, 0.1846, 0.0000, 0.0000, 0.0155, 0.0000, 0.7895]])\n",
      "tensor([-0.3396])\n"
     ]
    }
   ],
   "source": [
    "print(policy)\n",
    "print(value)"
   ]
  }
 ],
 "metadata": {
  "kernelspec": {
   "display_name": "uttt",
   "language": "python",
   "name": "python3"
  },
  "language_info": {
   "codemirror_mode": {
    "name": "ipython",
    "version": 3
   },
   "file_extension": ".py",
   "mimetype": "text/x-python",
   "name": "python",
   "nbconvert_exporter": "python",
   "pygments_lexer": "ipython3",
   "version": "3.11.13"
  }
 },
 "nbformat": 4,
 "nbformat_minor": 5
}
