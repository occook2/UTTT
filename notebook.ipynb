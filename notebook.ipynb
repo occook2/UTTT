{
 "cells": [
  {
   "cell_type": "code",
   "execution_count": 74,
   "id": "a30052f4",
   "metadata": {},
   "outputs": [],
   "source": [
    "import torch\n",
    "from ttt.agents.az.training.trainer import AlphaZeroTrainer\n",
    "from ttt.agents.az.training import load_config_from_yaml\n",
    "from ttt.agents.az.net import masked_softmax\n",
    "from ttt.env.state import TTTEnv\n",
    "import torch.nn.functional as F"
   ]
  },
  {
   "cell_type": "code",
   "execution_count": 84,
   "id": "279ce3b0",
   "metadata": {},
   "outputs": [
    {
     "name": "stdout",
     "output_type": "stream",
     "text": [
      "Saved checkpoint: checkpoints\\alphazero_epoch_0.pt\n",
      "Loaded checkpoint from ttt/runs/run_20251030_112736/checkpoints/alphazero_epoch_25.pt\n"
     ]
    },
    {
     "name": "stderr",
     "output_type": "stream",
     "text": [
      "c:\\Users\\occoo\\UTTT\\ttt\\agents\\az\\training\\trainer.py:523: FutureWarning: You are using `torch.load` with `weights_only=False` (the current default value), which uses the default pickle module implicitly. It is possible to construct malicious pickle data which will execute arbitrary code during unpickling (See https://github.com/pytorch/pytorch/blob/main/SECURITY.md#untrusted-models for more details). In a future release, the default value for `weights_only` will be flipped to `True`. This limits the functions that could be executed during unpickling. Arbitrary objects will no longer be allowed to be loaded via this mode unless they are explicitly allowlisted by the user via `torch.serialization.add_safe_globals`. We recommend you start setting `weights_only=True` for any use case where you don't have full control of the loaded file. Please open an issue on GitHub for any issues related to this experimental feature.\n",
      "  checkpoint = torch.load(checkpoint_path, map_location=self.config.device)\n"
     ]
    },
    {
     "data": {
      "text/plain": [
       "25"
      ]
     },
     "execution_count": 84,
     "metadata": {},
     "output_type": "execute_result"
    }
   ],
   "source": [
    "config_path = \"ttt/ttt_config.yaml\"\n",
    "config = load_config_from_yaml(config_path)\n",
    "trainer = AlphaZeroTrainer(config)\n",
    "trainer.load_checkpoint('ttt/runs/run_20251030_112736/checkpoints/alphazero_epoch_25.pt')"
   ]
  },
  {
   "cell_type": "code",
   "execution_count": 121,
   "id": "d9013d76",
   "metadata": {},
   "outputs": [
    {
     "data": {
      "text/plain": [
       "(tensor([[ 0.1809, -3.9389,  0.0949,  0.5206, -3.7663,  4.7562, -1.8865, -4.5252,\n",
       "          -2.5813]], device='cuda:0', grad_fn=<AddmmBackward0>),\n",
       " tensor([[0.0100, 0.0000, 0.0091, 0.0140, 0.0000, 0.9669, 0.0000, 0.0000, 0.0000]],\n",
       "        device='cuda:0', grad_fn=<SoftmaxBackward0>),\n",
       " tensor([0.0090], device='cuda:0', grad_fn=<SqueezeBackward1>))"
      ]
     },
     "execution_count": 121,
     "metadata": {},
     "output_type": "execute_result"
    }
   ],
   "source": [
    "env = TTTEnv()\n",
    "env.step(4)\n",
    "env.step(6)\n",
    "env.step(8)\n",
    "env.step(1)\n",
    "env.step(7)\n",
    "obs_tensor = torch.from_numpy(env._encode()).unsqueeze(0).float().to('cuda')\n",
    "net = trainer.network\n",
    "logits, value = net.forward(obs_tensor)\n",
    "\n",
    "legal_mask = env.legal_actions_mask()\n",
    "legal_mask_tensor = torch.from_numpy(legal_mask.flatten()).unsqueeze(0).bool().to('cuda')\n",
    "\n",
    "priors = F.softmax(logits, dim=-1) if legal_mask_tensor is None else masked_softmax(logits, legal_mask_tensor, dim=-1)\n",
    "logits, priors, value"
   ]
  },
  {
   "cell_type": "code",
   "execution_count": 77,
   "id": "d174f7ab",
   "metadata": {},
   "outputs": [
    {
     "name": "stdout",
     "output_type": "stream",
     "text": [
      "Saved checkpoint: checkpoints\\alphazero_epoch_0.pt\n",
      "Loaded checkpoint from ttt/runs/run_20251029_213207/checkpoints/alphazero_epoch_0.pt\n"
     ]
    },
    {
     "data": {
      "text/plain": [
       "(tensor([[ 0.2103,  0.1144, -0.6679, -0.2835, -0.1678, -0.6790,  0.4892, -0.4699,\n",
       "          -0.7762]], device='cuda:0', grad_fn=<AddmmBackward0>),\n",
       " tensor([[0.1605, 0.1458, 0.0667, 0.0979, 0.1099, 0.0659, 0.2121, 0.0813, 0.0598]],\n",
       "        device='cuda:0', grad_fn=<SoftmaxBackward0>),\n",
       " tensor([0.7452], device='cuda:0', grad_fn=<SqueezeBackward1>))"
      ]
     },
     "execution_count": 77,
     "metadata": {},
     "output_type": "execute_result"
    }
   ],
   "source": [
    "trainer_2 = AlphaZeroTrainer(config)\n",
    "trainer_2.load_checkpoint('ttt/runs/run_20251029_213207/checkpoints/alphazero_epoch_0.pt')\n",
    "\n",
    "env_2 = TTTEnv()\n",
    "obs_tensor = torch.from_numpy(env_2._encode()).unsqueeze(0).float().to('cuda')\n",
    "net_2 = trainer_2.network\n",
    "logits, value = net_2.forward(obs_tensor)\n",
    "legal_mask = env.legal_actions_mask()\n",
    "legal_mask_tensor = torch.from_numpy(legal_mask.flatten()).unsqueeze(0).bool().to('cuda')\n",
    "\n",
    "priors = F.softmax(logits, dim=-1) if legal_mask_tensor is None else masked_softmax(logits, legal_mask_tensor, dim=-1)\n",
    "logits, priors, value"
   ]
  }
 ],
 "metadata": {
  "kernelspec": {
   "display_name": "uttt",
   "language": "python",
   "name": "python3"
  },
  "language_info": {
   "codemirror_mode": {
    "name": "ipython",
    "version": 3
   },
   "file_extension": ".py",
   "mimetype": "text/x-python",
   "name": "python",
   "nbconvert_exporter": "python",
   "pygments_lexer": "ipython3",
   "version": "3.11.13"
  }
 },
 "nbformat": 4,
 "nbformat_minor": 5
}
